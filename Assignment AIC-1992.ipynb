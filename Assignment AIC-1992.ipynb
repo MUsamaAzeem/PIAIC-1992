{
 "cells": [
  {
   "cell_type": "code",
   "execution_count": 20,
   "metadata": {},
   "outputs": [
    {
     "name": "stdout",
     "output_type": "stream",
     "text": [
      "ENTER THE RADIUS OF THE CIRCLE0.5\n",
      "0.7855\n"
     ]
    }
   ],
   "source": [
    "#ANSWER 1\n",
    "Radius=float(input (\"ENTER THE RADIUS OF THE CIRCLE\"))\n",
    "pi=3.142\n",
    "Area=pi*Radius**2\n",
    "print( Area)\n",
    "\n",
    "\n"
   ]
  },
  {
   "cell_type": "code",
   "execution_count": 41,
   "metadata": {},
   "outputs": [
    {
     "name": "stdout",
     "output_type": "stream",
     "text": [
      "enter the number to check the positive/negative/zero -5656556.56\n",
      "number is negative\n"
     ]
    }
   ],
   "source": [
    "#ANSWER 2\n",
    "num=float(input(\"enter the number to check the positive/negative/zero \"))\n",
    "if(num<0):\n",
    "    print(\"number is negative\")\n",
    "elif (num==0):\n",
    "    print(\"number is equal to zero\")\n",
    "else:\n",
    "    print(\"number is positive\")\n",
    "                \n",
    "              "
   ]
  },
  {
   "cell_type": "code",
   "execution_count": 52,
   "metadata": {},
   "outputs": [
    {
     "name": "stdout",
     "output_type": "stream",
     "text": [
      "enter the numerator23\n",
      "enter the dennumertor23456\n",
      "not  divisibe\n"
     ]
    }
   ],
   "source": [
    "num=int(input(\"enter the numerator\"))\n",
    "num2=int(input(\"enter the dennumertor\"))\n",
    "if(num%num2):\n",
    "    print(\"not  divisibe\")\n",
    "else:\n",
    "    print(\"completely divisble\")"
   ]
  },
  {
   "cell_type": "code",
   "execution_count": 74,
   "metadata": {},
   "outputs": [
    {
     "name": "stdout",
     "output_type": "stream",
     "text": [
      "enter first date21\n",
      "enter first month11\n",
      "enter first year1998\n",
      "enter second date 12\n",
      "enter second month6\n",
      "enter second year2019\n",
      "Number of dates between two specific dates\n",
      "7806\n"
     ]
    }
   ],
   "source": [
    "Date1=int(input(\"enter first date\"))\n",
    "Month1=int(input(\"enter first month\"))\n",
    "Year1=int(input(\"enter first year\"))\n",
    "Date2=int(input(\"enter second date \"))\n",
    "Month2=int(input(\"enter second month\"))\n",
    "Year2=int(input(\"enter second year\"))\n",
    "Month=(Month1-Month2)*30\n",
    "Year=(Year2-Year1)*365\n",
    "The_remaining_days=(Date2-Date1)+(Month)+(Year)\n",
    "print(\"Number of dates between two specific dates\")\n",
    "print(The_remaining_days)\n"
   ]
  },
  {
   "cell_type": "code",
   "execution_count": 79,
   "metadata": {},
   "outputs": [
    {
     "name": "stdout",
     "output_type": "stream",
     "text": [
      "ENTER THE RADIUS OF THE Sphere1\n",
      "4.189333333333333\n"
     ]
    }
   ],
   "source": [
    "Radius=float(input (\"ENTER THE RADIUS OF THE Sphere\"))\n",
    "pi=3.142\n",
    "Area=(4/3)*pi*Radius**3\n",
    "print( Area)"
   ]
  },
  {
   "cell_type": "code",
   "execution_count": 88,
   "metadata": {},
   "outputs": [
    {
     "name": "stdout",
     "output_type": "stream",
     "text": [
      "enter the number4\n",
      "even\n"
     ]
    }
   ],
   "source": [
    "num=int(input(\"enter the number\"))\n",
    "if(num%2):\n",
    "    print(\"odd\")\n",
    "else:\n",
    "    print(\"even\")"
   ]
  },
  {
   "cell_type": "code",
   "execution_count": 113,
   "metadata": {},
   "outputs": [
    {
     "name": "stdout",
     "output_type": "stream",
     "text": [
      "enter the string to check vowela\n",
      "vowel\n"
     ]
    }
   ],
   "source": [
    "Alpha=str(input(\"enter the string to check vowel\"))\n",
    "if(Alpha==\"a\"or Alpha==\"i\" or Alpha==\"e\" or Alpha==\"u\" or Alpha==\"o\"):\n",
    "    print(\"vowel\")\n",
    "else:\n",
    "    print(\"not vovel\")"
   ]
  },
  {
   "cell_type": "code",
   "execution_count": 115,
   "metadata": {},
   "outputs": [
    {
     "name": "stdout",
     "output_type": "stream",
     "text": [
      "enter the height 4\n",
      "enter the depth4\n",
      "8.0\n"
     ]
    }
   ],
   "source": [
    "height=int(input(\"enter the height \"))\n",
    "depth=int(input(\"enter the depth\"))\n",
    "Area=(1/2)*(height)*(depth)\n",
    "print(Area)"
   ]
  },
  {
   "cell_type": "code",
   "execution_count": 12,
   "metadata": {},
   "outputs": [
    {
     "name": "stdout",
     "output_type": "stream",
     "text": [
      "Initial amount: 12\n",
      "Interest Rate: 12\n",
      "Years of growth: 12\n",
      "Result: $ 46.75\n"
     ]
    }
   ],
   "source": [
    "def main():\n",
    "   amount = int(input(\"Initial amount: \"))\n",
    "   interest=float(input(\"Interest Rate: \"))\n",
    "   years = int(input(\"Years of growth: \"))\n",
    "   print(\"Result: $\",calc(amount,interest,years))\n",
    "\n",
    "def calc(a,i,y):\n",
    "   futureValue = a*((1+(.01*i))**y)\n",
    "   returnAmount = round(futureValue,2)\n",
    "   return returnAmount\n",
    "main()\n"
   ]
  },
  {
   "cell_type": "code",
   "execution_count": 19,
   "metadata": {},
   "outputs": [
    {
     "name": "stdout",
     "output_type": "stream",
     "text": [
      "enter the first co-ordinate2\n",
      "enter the second co-ordinate4\n",
      "enter the third co-ordinate4\n",
      "enter the fourth co-ordinate4\n",
      "2.0\n"
     ]
    }
   ],
   "source": [
    "X1=int(input(\"enter the first co-ordinate\"))\n",
    "Y1=int(input(\"enter the second co-ordinate\"))\n",
    "X2=int(input(\"enter the third co-ordinate\"))\n",
    "Y2=int(input(\"enter the fourth co-ordinate\"))\n",
    "Distance=((((Y1-X1)**2)+((Y2-X2)**2))*(1/2))\n",
    "print(Distance)"
   ]
  },
  {
   "cell_type": "code",
   "execution_count": 37,
   "metadata": {},
   "outputs": [
    {
     "name": "stdout",
     "output_type": "stream",
     "text": [
      "enter the height in feet12\n",
      "365.76\n"
     ]
    }
   ],
   "source": [
    "feet=30.48\n",
    "height_in_ft=float(input(\"enter the height in feet\"))\n",
    "height_in_cm=height_in_ft*feet\n",
    "print(height_in_cm)"
   ]
  },
  {
   "cell_type": "code",
   "execution_count": 40,
   "metadata": {},
   "outputs": [
    {
     "name": "stdout",
     "output_type": "stream",
     "text": [
      "enter the weight in kg75\n",
      "enter the height in ft5\n",
      "0.0032291731250129164\n"
     ]
    }
   ],
   "source": [
    "weight=int(input(\"enter the weight in kg\"))\n",
    "height=float(input(\"enter the height in ft\"))\n",
    "height=height*30.48\n",
    "BMI=(weight)/((height)**2)\n",
    "print(BMI)"
   ]
  },
  {
   "cell_type": "code",
   "execution_count": 41,
   "metadata": {},
   "outputs": [
    {
     "name": "stdout",
     "output_type": "stream",
     "text": [
      "Input a number: 5\n",
      "15.0\n"
     ]
    }
   ],
   "source": [
    "n = int(input(\"Input a number: \"))\n",
    "sum_num = (n * (n + 1)) / 2\n",
    "print(sum_num)\n"
   ]
  },
  {
   "cell_type": "code",
   "execution_count": 46,
   "metadata": {},
   "outputs": [
    {
     "name": "stdout",
     "output_type": "stream",
     "text": [
      "Enter a number: 2\n",
      "The sum of digits of number is 2\n"
     ]
    }
   ],
   "source": [
    "num = input(\"Enter a number: \")\n",
    "sum = 0\n",
    "for i in num:\n",
    "    sum += int(i)\n",
    "print(\"The sum of digits of number is\",sum)"
   ]
  },
  {
   "cell_type": "code",
   "execution_count": 6,
   "metadata": {},
   "outputs": [
    {
     "name": "stdout",
     "output_type": "stream",
     "text": [
      "Enter 'x' for exit.\n",
      "Enter number in Decimal Format: 32\n",
      "0b100000\n"
     ]
    }
   ],
   "source": [
    "print(\"Enter 'x' for exit.\");\n",
    "dec = input(\"Enter number in Decimal Format: \");\n",
    "if dec == 'x':\n",
    "    exit();\n",
    "else:\n",
    "    decimal = int(dec);\n",
    "    print(bin(decimal));"
   ]
  },
  {
   "cell_type": "code",
   "execution_count": 12,
   "metadata": {},
   "outputs": [
    {
     "name": "stdout",
     "output_type": "stream",
     "text": [
      "enter the first1\n",
      "enter the second0\n",
      "enter the thirth0\n",
      "enter the fourth1\n",
      "9\n"
     ]
    }
   ],
   "source": [
    "b1=int(input(\"enter the first\"))\n",
    "b2=int(input(\"enter the second\"))\n",
    "b3=int(input(\"enter the thirth\"))\n",
    "b4=int(input(\"enter the fourth\"))\n",
    "decimal=(((b4)*(2**3))+((b3)*(2**2))+((b2)*(2**1))+((b1)*(2**0)))\n",
    "print(decimal)"
   ]
  },
  {
   "cell_type": "code",
   "execution_count": 23,
   "metadata": {},
   "outputs": [
    {
     "name": "stdout",
     "output_type": "stream",
     "text": [
      "Please Enter Your Own String : QuickBrownFoxJumpsovertheDog\n",
      "Total Number of Vowels in this String =  9\n",
      "Total Number of Consonants in this String =  19\n"
     ]
    }
   ],
   "source": [
    "string = input(\"Please Enter Your Own String : \")\n",
    "vowels = 0\n",
    "consonants = 0\n",
    "\n",
    "\n",
    "for i in string:\n",
    "    if(i == 'a' or i == 'e' or i == 'i' or i == 'o' or i == 'u'):\n",
    "        vowels = vowels + 1\n",
    "    else:\n",
    "        consonants = consonants + 1\n",
    " \n",
    "print(\"Total Number of Vowels in this String = \", vowels)\n",
    "print(\"Total Number of Consonants in this String = \", consonants)"
   ]
  },
  {
   "cell_type": "code",
   "execution_count": 31,
   "metadata": {},
   "outputs": [
    {
     "name": "stdout",
     "output_type": "stream",
     "text": [
      "enter the wordhello\n",
      "No\n"
     ]
    }
   ],
   "source": [
    "def isPalindrome(s): \n",
    "      \n",
    "    rev = ''.join(reversed(s)) \n",
    "  \n",
    "    if (s == rev): \n",
    "        return True\n",
    "    return False\n",
    "  \n",
    " \n",
    "s=str(input(\"enter the word\"))\n",
    "ans = isPalindrome(s) \n",
    "  \n",
    "if (ans): \n",
    "    print(\"Yes\") \n",
    "else: \n",
    "    print(\"No\") \n",
    "    "
   ]
  },
  {
   "cell_type": "code",
   "execution_count": 33,
   "metadata": {},
   "outputs": [
    {
     "name": "stdout",
     "output_type": "stream",
     "text": [
      "Please Enter your Own String : u9428rf9rum4=4mc2\n",
      "\n",
      "Total Number of Alphabets in this String :   8\n",
      "Total Number of Digits in this String :   8\n",
      "Total Number of Special Characters in this String :   1\n"
     ]
    }
   ],
   "source": [
    "string = input(\"Please Enter your Own String : \")\n",
    "alphabets = digits = special = 0\n",
    "\n",
    "for i in range(len(string)):\n",
    "    if(string[i].isalpha()):\n",
    "        alphabets = alphabets + 1\n",
    "    elif(string[i].isdigit()):\n",
    "        digits = digits + 1\n",
    "    else:\n",
    "        special = special + 1\n",
    "        \n",
    "print(\"\\nTotal Number of Alphabets in this String :  \", alphabets)\n",
    "print(\"Total Number of Digits in this String :  \", digits)\n",
    "print(\"Total Number of Special Characters in this String :  \", special)"
   ]
  },
  {
   "cell_type": "code",
   "execution_count": null,
   "metadata": {},
   "outputs": [],
   "source": [
    "string=str(input(\"enter the string\"))\n",
    "copies=int(input(\"enter the number of copies\"))\n",
    "result=string*copies\n",
    "print(result,\"theresult\")"
   ]
  },
  {
   "cell_type": "code",
   "execution_count": 1,
   "metadata": {},
   "outputs": [
    {
     "name": "stdout",
     "output_type": "stream",
     "text": [
      "\n",
      "* \n",
      "* * \n",
      "* * * \n",
      "* * * * \n",
      "* * * * * \n",
      "* * * * \n",
      "* * * \n",
      "* * \n",
      "* \n"
     ]
    }
   ],
   "source": [
    "n=5;\n",
    "for i in range(n):\n",
    "    for j in range(i):\n",
    "        print ('* ', end=\"\")\n",
    "    print('')\n",
    "\n",
    "for i in range(n,0,-1):\n",
    "    for j in range(i):\n",
    "        print('* ', end=\"\")\n",
    "    print('')"
   ]
  },
  {
   "cell_type": "code",
   "execution_count": 2,
   "metadata": {},
   "outputs": [
    {
     "name": "stdout",
     "output_type": "stream",
     "text": [
      "\n",
      "1\n",
      "22\n",
      "333\n",
      "4444\n",
      "55555\n",
      "666666\n",
      "7777777\n",
      "88888888\n",
      "999999999\n"
     ]
    }
   ],
   "source": [
    "for i in range(10):\n",
    "    print(str(i) * i)"
   ]
  },
  {
   "cell_type": "code",
   "execution_count": null,
   "metadata": {},
   "outputs": [],
   "source": []
  }
 ],
 "metadata": {
  "kernelspec": {
   "display_name": "Python 3",
   "language": "python",
   "name": "python3"
  },
  "language_info": {
   "codemirror_mode": {
    "name": "ipython",
    "version": 3
   },
   "file_extension": ".py",
   "mimetype": "text/x-python",
   "name": "python",
   "nbconvert_exporter": "python",
   "pygments_lexer": "ipython3",
   "version": "3.7.3"
  }
 },
 "nbformat": 4,
 "nbformat_minor": 2
}
